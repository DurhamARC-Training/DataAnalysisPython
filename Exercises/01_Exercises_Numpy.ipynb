{
 "cells": [
  {
   "cell_type": "markdown",
   "metadata": {},
   "source": [
    "# Exercises for using NumPy\n",
    "\n",
    "## Warm-Up Exercises\n",
    "\n",
    "1. **Create a NumPy array**: Create a NumPy array of integers from 1 to 10.\n",
    "\n",
    "2. **Array shape**: Find the shape of the array you created.\n",
    "\n",
    "3. **Array data type**: Find the data type of the array.\n",
    "\n",
    "4. **Array operations**: Perform basic arithmetic operations (addition, subtraction, multiplication, division) on the array.\n",
    "\n",
    "5. **Reshape array**: Reshape the array into a 2x5 matrix.\n",
    "\n",
    "6. **Indexing and slicing**: Access the third element of the array and slice the array to get the first 5 elements.\n",
    "\n",
    "7. **Array statistics**: Calculate the sum, mean, and standard deviation of the array.\n",
    "\n",
    "8. **Boolean indexing**: Create a boolean array that selects only the even numbers from the original array.\n",
    "\n",
    "9. **Array concatenation**: Create a second array of integers from 11 to 20 and concatenate it with the original array.\n",
    "\n",
    "10. **Broadcasting**: Add a scalar (e.g., 5) to the original array using broadcasting."
   ]
  },
  {
   "cell_type": "code",
   "execution_count": null,
   "metadata": {},
   "outputs": [],
   "source": []
  },
  {
   "cell_type": "markdown",
   "metadata": {},
   "source": [
    "## Working with XRD data.\n",
    "The  file `data/fco.txt` contains a cut output file from a crystallographic refinement. If you do not want to you can also just name the variables $A$-$F$, the context is not really that important.\n",
    "\n",
    "Here are the exercises for working with the SC-XRD data:\n",
    "\n",
    "1. **Read the data**: Use NumPy to read the data from the file `data/fco.txt` mentioned above. The data contains six columns:\n",
    "    - $h$ : integer, Miller index\n",
    "    - $k$ : integer, Miller index\n",
    "    - $l$ : integer, Miller index\n",
    "    - $F^2_\\text{calc,i}$ : calculated scaled intensity from the model\n",
    "    - $F^2_\\text{obs,i}$ : observed scaled intensity from the model\n",
    "    - $\\sigma_i$ : estimated standard deviation of the scaled observed intensity\n",
    "\n",
    "Note: Make sure that you take into account that the data file already contains the squared values.\n"
   ]
  },
  {
   "cell_type": "code",
   "execution_count": null,
   "metadata": {},
   "outputs": [],
   "source": []
  },
  {
   "cell_type": "markdown",
   "metadata": {},
   "source": [
    "\n",
    "2. **Calculate the mean I/sigma**: Calculate the mean of the ratio of observed intensity to the estimated standard deviation for the dataset. The formula for calculating the mean is:\n",
    "\n",
    "   $$\\overline{I/\\sigma} = \\frac{\\sum_{i=1}^{n} \\frac{F^2_\\text{obs,i}}{\\sigma_i}}{n}$$\n",
    "\n",
    "   where $F^2_\\text{obs,i}$ is the observed absolute squared structure factor and $\\sigma_i$ is the estimated standard deviation for the $i$ th data point.\n"
   ]
  },
  {
   "cell_type": "code",
   "execution_count": null,
   "metadata": {},
   "outputs": [],
   "source": []
  },
  {
   "cell_type": "markdown",
   "metadata": {},
   "source": [
    "\n",
    "3. **Calculate $R_1$**: Calculate the R1 value for the dataset. R1 is a measure of the agreement between the observed and modelled absolute squared structure factors. The formula for calculating R1 is:\n",
    "\n",
    "   $$R_1 = \\frac{\\sum_{i=1}^{n} ||F^2_\\text{calc,i} - F^2_\\text{obs,i}||}{\\sum_{i=1}^{n} |F^2_\\text{obs,i}|}$$\n",
    "\n",
    "   where $F^2_\\text{obs,i}$ is the observed absolute squared structure factor and $F^2_\\text{calc,i}$ is the modelled absolute squared structure factor for the $i$th data point.\n"
   ]
  },
  {
   "cell_type": "code",
   "execution_count": null,
   "metadata": {},
   "outputs": [],
   "source": []
  },
  {
   "cell_type": "markdown",
   "metadata": {},
   "source": [
    "\n",
    "4. **Calculate wR2**: Calculate the weighted R2 value for the dataset. wR2 is another measure of the agreement between the observed and modelled absolute squared structure factors, taking into account the estimated standard deviation. The formula for calculating wR2 is:\n",
    "\n",
    "   $$wR_2 = \\frac{\\sum_{i=1}^{n} \\left( \\frac{F^2_\\text{obs,i} - F^2_\\text{calc,i}}{\\sigma_i} \\right)^2}{\\sum_{i=1}^{n} \\left( \\frac{F^2_\\text{obs,i}}{\\sigma_i} \\right)^2}$$\n",
    "\n",
    "   where $F^2_\\text{obs,i}$ is the observed absolute squared structure factor, $F^2_\\text{calc,i}$ is the modelled absolute squared structure factor, and $\\sigma_i$ is the estimated standard deviation for the $i$th data point.\n"
   ]
  },
  {
   "cell_type": "markdown",
   "metadata": {},
   "source": []
  }
 ],
 "metadata": {
  "language_info": {
   "name": "python"
  }
 },
 "nbformat": 4,
 "nbformat_minor": 2
}
