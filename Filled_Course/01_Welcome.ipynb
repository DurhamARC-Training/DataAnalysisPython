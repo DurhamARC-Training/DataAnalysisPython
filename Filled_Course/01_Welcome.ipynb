{
 "cells": [
  {
   "cell_type": "markdown",
   "metadata": {
    "editable": true,
    "slideshow": {
     "slide_type": "slide"
    },
    "tags": []
   },
   "source": [
    "# Data Analysis with Python\n",
    "\n",
    "## Course by Advanced Research Computing\n",
    "Tutors: Paul Niklas Ruth, Jordan Byers, Samantha Finnigan, Dmitry Nikolaenko"
   ]
  },
  {
   "cell_type": "markdown",
   "metadata": {
    "slideshow": {
     "slide_type": "slide"
    }
   },
   "source": [
    "# Introduction\n",
    "Write onto the two sticky notes, which department are you from and what do you hope to get out of this course."
   ]
  },
  {
   "cell_type": "markdown",
   "metadata": {
    "slideshow": {
     "slide_type": "slide"
    }
   },
   "source": [
    "# The Python Environment\n",
    "For this course we are using [JupyterLite](https://jupyterlite.readthedocs.io/en/stable/), which is a tool that allows us to launch [JupyterLab](https://jupyterlab.readthedocs.io/en/latest/) and run our Python code in the web browser through these notebook (.ipynb) files.\n",
    "\n",
    "To access and run the course materials, start by:\n",
    "\n",
    "Navigating to the course materials on our GitHub page: \n",
    "\n",
    "https://durhamarc-training.github.io/DataAnalysisPython/\n",
    "\n",
    "On the left side bar\n",
    " - find and open the \"Courses\" folder\n",
    " - open the file \"01_Welcome.ipynb\"\n",
    "\n",
    "NOTE: The first time you run your code/new modules, there may be a small wait while the module is loaded."
   ]
  }
 ],
 "metadata": {
  "kernelspec": {
   "display_name": "Python 3 (ipykernel)",
   "language": "python",
   "name": "python3"
  },
  "language_info": {
   "codemirror_mode": {
    "name": "ipython",
    "version": 3
   },
   "file_extension": ".py",
   "mimetype": "text/x-python",
   "name": "python",
   "nbconvert_exporter": "python",
   "pygments_lexer": "ipython3",
   "version": "3.10.12"
  }
 },
 "nbformat": 4,
 "nbformat_minor": 4
}
