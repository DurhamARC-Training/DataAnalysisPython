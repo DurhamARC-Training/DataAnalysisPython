{
 "cells": [
  {
   "cell_type": "markdown",
   "id": "f9ab6862-0066-401f-af94-bd34a2ea1795",
   "metadata": {
    "editable": true,
    "slideshow": {
     "slide_type": "slide"
    },
    "tags": []
   },
   "source": [
    "# Exercises for using Matplotlib"
   ]
  },
  {
   "cell_type": "markdown",
   "id": "7c725a92-5308-489b-bd5c-24c419704ed9",
   "metadata": {
    "editable": true,
    "slideshow": {
     "slide_type": "subslide"
    },
    "tags": []
   },
   "source": [
    "## Exercise 1: Visualise the points as scatter plots and show the regression line"
   ]
  },
  {
   "cell_type": "markdown",
   "id": "b18dd0cb-f9d8-4c50-9328-5fb057635f0d",
   "metadata": {
    "editable": true,
    "slideshow": {
     "slide_type": ""
    },
    "tags": []
   },
   "source": [
    "### Preparation for Exercise 1"
   ]
  },
  {
   "cell_type": "markdown",
   "id": "bf99b49d-c1ec-4467-845c-0bceb2937176",
   "metadata": {
    "editable": true,
    "slideshow": {
     "slide_type": ""
    },
    "tags": []
   },
   "source": [
    "#### 1) Loading Data from a JSON file"
   ]
  },
  {
   "cell_type": "markdown",
   "id": "1700644d-c22e-4953-93b8-23a2e4fc121d",
   "metadata": {},
   "source": [
    "**JSON (JavaScript Object Notation)** is a lightweight, text-based data interchange format that's easy for humans to read and write. Despite its name, JSON is language-independent and widely used for data storage and exchange.\n",
    "\n",
    "The `json.load()` function:\n",
    "- Reads JSON data from a file object and converts it to Python data structures\n",
    "- JSON objects become Python dictionaries\n",
    "- JSON arrays become Python lists\n",
    "\n",
    "This is particularly useful for loading structured data like the Anscombe datasets we'll be working with."
   ]
  },
  {
   "cell_type": "code",
   "execution_count": null,
   "id": "372825d9-d59a-4a8d-bd62-d47c4049d4bf",
   "metadata": {
    "editable": true,
    "slideshow": {
     "slide_type": ""
    },
    "tags": []
   },
   "outputs": [],
   "source": [
    "# Load json module\n",
    "import json\n",
    "\n",
    "# Create a file open context manager and load dict from JSON\n",
    "json_path = '../Data/exercise/anscombe.json'\n",
    "with open(json_path, 'r') as fobj:\n",
    "    data_dict = json.load(fobj)\n",
    "\n",
    "# Print the data using the items method of the dict\n",
    "for key, value in data_dict.items():\n",
    "    print(key)\n",
    "    print(value)"
   ]
  },
  {
   "cell_type": "markdown",
   "id": "4dbc9cf3-ba57-4c93-901b-ea9ed485b9be",
   "metadata": {
    "editable": true,
    "slideshow": {
     "slide_type": ""
    },
    "tags": []
   },
   "source": [
    "#### 2) Using np.polyfit to generate a linear fit\n",
    "A linear fit is a polynomial of grade 1"
   ]
  },
  {
   "cell_type": "markdown",
   "id": "85ff7c99-7c3c-4a50-8aaa-5b259599ccd7",
   "metadata": {},
   "source": [
    "`np.polyfit()` is a NumPy function that performs polynomial fitting to data points. It finds the coefficients of a polynomial of specified degree that best fits the data using least squares regression.\n",
    "\n",
    "**Basic Usage**:\n",
    "- **Simple fit**: `coefficients = np.polyfit(x, y, degree)`\n",
    "- **Full output**: `coefficients, residuals, rank, singular_values = np.polyfit(x, y, degree, full=True)`\n",
    "\n",
    "**Parameters**:\n",
    "- `x`, `y`: Input data points (arrays)\n",
    "- `degree`: Degree of the polynomial (1 for linear, 2 for quadratic, etc.)\n",
    "- `full=True`: Returns additional fitting statistics including residuals\n",
    "\n",
    "**For Linear Regression (degree=1):**\n",
    "- Returns coefficients `[m, b]` for equation `y = mx + b`\n",
    "- With `full=True`, also returns sum of squared residuals (measure of fit quality)\n",
    "\n",
    "**Companion Functions**:\n",
    "- `np.polyval(coefficients, x)`: Evaluates the polynomial at given x values\n",
    "- Useful for plotting the fitted line: `y_fit = np.polyval(coefficients, x_data)`\n",
    "\n",
    "This function is particularly useful for analysing relationships in data and creating trend lines for visualisation."
   ]
  },
  {
   "cell_type": "code",
   "execution_count": null,
   "id": "5c6c19fc-bb96-4b60-ab08-15daf15851cd",
   "metadata": {
    "editable": true,
    "slideshow": {
     "slide_type": ""
    },
    "tags": []
   },
   "outputs": [],
   "source": [
    "# Import matplotlib and NumPy\n",
    "import matplotlib.pyplot as plt\n",
    "import numpy as np\n",
    "\n",
    "# Get the first dataset, then get its x and y value\n",
    "dataset = data_dict['dataset1']\n",
    "x = dataset['x']\n",
    "y = dataset['y']\n",
    "\n",
    "# Do the polynomial fit\n",
    "fit = np.polyfit(x, y, 1)\n",
    "print(f'for y = mx + b, m={fit[0]}, b={fit[1]}')\n",
    "\n",
    "# Also get the sum of squared residuals\n",
    "fit, sum_sq_res, *_ = np.polyfit(x, y, 1, full=True)\n",
    "sum_sq_res"
   ]
  },
  {
   "cell_type": "markdown",
   "id": "3c96fd42-669b-4b4b-8034-afbb9be176fe",
   "metadata": {
    "editable": true,
    "slideshow": {
     "slide_type": "fragment"
    },
    "tags": []
   },
   "source": [
    "### **Task** for Exercise 1:\n",
    "We can use [`np.polyfit`](https://numpy.org/doc/stable/reference/generated/numpy.polyfit.html) for a simple linear regression. Use this to visualise and fit [Anscombe's quartett](https://www.jstor.org/stable/2682899?seq=4) (compare your results with figures 1-4 in the article) using the data located in `exercise_data/anscombe.json`.\n",
    "\n",
    "Visualise the points as scatter plots and show the regression line. Give labels to the axes and try to vary the colours of the individual components. Use `np.polyval()` to evaluate the fitted polynomial and create the regression line for plotting. If you want, you can also create a separate plot for the fitting statistics. For the reference about the plot types in Matplotlib (including scatter plots) look [here](https://matplotlib.org/stable/plot_types/index.html)."
   ]
  },
  {
   "cell_type": "code",
   "execution_count": null,
   "id": "67d23485-6271-4ce4-a3f2-7aeed68229bb",
   "metadata": {
    "editable": true,
    "remove_code": "non-comments",
    "slideshow": {
     "slide_type": ""
    },
    "tags": []
   },
   "outputs": [],
   "source": [
    "### Your solution here\n",
    "\n",
    "# Create a figure and subplots for the regression lines\n",
    "fig, axs = plt.subplots(2, 2, figsize=(8, 6))\n",
    "\n",
    "# Create a figure and subplot for the fitting statistics\n",
    "fig2, ax2 = plt.subplots(1, 1, figsize=(8, 1))\n",
    "\n",
    "# Create scatter plots for every regression line\n",
    "for i, ax in enumerate(axs.flat):\n",
    "    data = data_dict[f'dataset{i+1}']\n",
    "    x = np.array(data['x'])\n",
    "    y = np.array(data['y'])\n",
    "    ax.scatter(x, y)\n",
    "    ax.set_title(f'Dataset {i+1}')\n",
    "    ax.set_xlabel('x')\n",
    "    ax.set_ylabel('y')\n",
    "    x_fit, residuals, *_ = np.polyfit(x, y, 1, full=True)\n",
    "    y_fit = np.polyval(x_fit, x)\n",
    "    ax.plot(x, y_fit, color='red')\n",
    "    ax2.scatter(i, residuals, color='C0')\n",
    "\n",
    "# Adjust the spacing between subplots\n",
    "fig.tight_layout()\n",
    "\n",
    "# Show the plot\n",
    "plt.show()"
   ]
  },
  {
   "cell_type": "markdown",
   "id": "def4a413-c919-4fc0-ae19-40d13a5ca8a5",
   "metadata": {},
   "source": [
    "## Exercise 2: Create different types of visualisations"
   ]
  },
  {
   "cell_type": "markdown",
   "id": "cca243a1-cb60-4315-8ed6-10bcdebd9796",
   "metadata": {},
   "source": [
    "### Preparation for Exercise 2"
   ]
  },
  {
   "cell_type": "markdown",
   "id": "b5ed0ae2-d297-4cd1-a16c-e143e064347b",
   "metadata": {},
   "source": [
    "Before starting Exercise 2, let's briefly introduce some additional Matplotlib plotting functions. For subplots created with `fig, axes = plt.subplots()`, you get access to each of them using the notation `axes[i,j]` at row `i` and column `j` (for 2D subplot grids). On each of them, you can choose which type of visualisations to create:\n",
    "\n",
    "**`axes[i,j].hist()`** - Creates histograms to show the distribution of data:\n",
    "- Shows frequency of values in bins\n",
    "- Useful for understanding data distribution\n",
    "- Basic usage: `ax.hist(data, bins=number_of_bins)`\n",
    "\n",
    "**`axes[i,j].scatter()`** - Creates scatter plots to show relationships between two variables:\n",
    "- Each point represents a data pair (x, y)\n",
    "- Useful for showing correlations and patterns\n",
    "- Basic usage: `ax.scatter(x_data, y_data)`\n",
    "- Can customise with colours, sizes, and markers\n",
    "\n",
    "**`axes[i,j].matshow()`** - Displays 2D arrays as images/heatmaps:\n",
    "- Each array element becomes a coloured pixel\n",
    "- Useful for visualising matrices, grids, or 2D functions\n",
    "- Basic usage: `ax.matshow(2d_array)`\n",
    "- Colours represent different values in the array\n",
    "\n",
    "These functions, combined with `axes[i,j].plot()`, give you a versatile toolkit for creating different types of visualisations in your scientific figures."
   ]
  },
  {
   "cell_type": "markdown",
   "id": "8a72f158-6a42-4c83-a30b-fbc300080bde",
   "metadata": {
    "editable": true,
    "slideshow": {
     "slide_type": ""
    },
    "tags": []
   },
   "source": [
    "### **Task** for Exercise 2: Create a mock of graphs from your field\n",
    "\n",
    "Create a selection of graphs using `np.linspace`, `np.random.rand` and the NumPy functions that are somewhat representative of a figure you might publish. Use Matplotlib functions such as `subplots()`, `plot()`, `hist()`, `scatter()`, and `matshow()` to create different types of visualisations."
   ]
  },
  {
   "cell_type": "markdown",
   "id": "b2786cb3-93f6-4753-a902-4fbfb8294334",
   "metadata": {},
   "source": [
    "#### 1) Examples of NumPy functions:"
   ]
  },
  {
   "cell_type": "markdown",
   "id": "03931940-804c-4805-aa8f-55fbc51595a3",
   "metadata": {},
   "source": [
    "- `np.exp` for exponential function,\n",
    "- `np.sqrt` for square root function,\n",
    "- `np.sin` for sine function\n",
    "- `np.cos` for cosine function\n",
    "- `np.meshgrid` for creating 2D grids"
   ]
  },
  {
   "cell_type": "markdown",
   "id": "52cbc99e-142e-4844-9862-d5f00ad72735",
   "metadata": {},
   "source": [
    "#### 2) Using `np.meshgrid()` to create 2D grids for plotting"
   ]
  },
  {
   "cell_type": "markdown",
   "id": "d6216471-0188-4e1d-ae72-5b53dba9bae2",
   "metadata": {},
   "source": [
    "`np.meshgrid()` is a NumPy function that creates coordinate matrices from coordinate vectors. It's particularly useful for creating 2D grids for plotting surfaces, contours, or evaluating functions over a 2D domain.\n",
    "\n",
    "**Basic Usage**:\n",
    "```python\n",
    "xx, yy = np.meshgrid(x_array, y_array)\n",
    "```\n",
    "\n",
    "**What it does**:\n",
    "- Takes two 1D arrays representing coordinates along x and y axes\n",
    "- Returns two 2D arrays where every point (i,j) contains the x and y coordinates\n",
    "- Creates a rectangular grid of points for 2D plotting\n",
    "\n",
    "**Example**:\n",
    "```python\n",
    "x = np.linspace(0, 2, 3)  # [0, 1, 2]\n",
    "y = np.linspace(0, 1, 2)  # [0, 1]\n",
    "xx, yy = np.meshgrid(x, y)\n",
    "# xx = [[0, 1, 2],    yy = [[0, 0, 0],\n",
    "#       [0, 1, 2]]          [1, 1, 1]]\n",
    "```"
   ]
  },
  {
   "cell_type": "code",
   "execution_count": null,
   "id": "82dc5b21-7022-4eb2-9dbe-fd2175dccfcb",
   "metadata": {
    "editable": true,
    "remove_code": "non-comments",
    "slideshow": {
     "slide_type": ""
    },
    "tags": []
   },
   "outputs": [],
   "source": [
    "### Your solution here\n",
    "\n",
    "# Create data for x1 and y1 using 'np.linspace' and the numpy functions\n",
    "x1 = np.linspace(0, 4, 10)\n",
    "y1 = np.exp(-x1)\n",
    "\n",
    "# Create data for x2 and y2 using 'np.linspace' and the numpy functions\n",
    "x2 = np.linspace(0, 4, 100)\n",
    "y2 = np.sqrt(x2)\n",
    "\n",
    "# Create random data y3a and y3b from x1 using 'np.random.rand'\n",
    "y3a = x1 * 3 + (np.random.rand(10) - 0.5)\n",
    "y3b = x1 * 3 + 3 * (np.random.rand(10) - 0.5)\n",
    "\n",
    "# Create meshgrid xx and yy and data zz\n",
    "xx, yy = np.meshgrid(np.linspace(0, 2, 100,), np.linspace(0, 2, 100))\n",
    "zz = np.sin(xx) * np.cos(yy)\n",
    "\n",
    "# Create figure and axes\n",
    "fig, axes = plt.subplots(2, 2)\n",
    "\n",
    "# Plot data y1 on subplot(0,0), y2 on subplot(0,1), y3a and y3b on subplot(1,0), zz on subplot(1,1)\n",
    "axes[0, 0].plot(x1, y1)\n",
    "axes[0, 1].hist(y2)\n",
    "axes[1, 0].scatter(x1, y3a)\n",
    "axes[1, 0].scatter(x1, y3b)\n",
    "axes[1, 1].matshow(zz)"
   ]
  },
  {
   "cell_type": "markdown",
   "id": "026ffe9b-ce7d-4256-bd6e-ad9e7e98f77e",
   "metadata": {
    "editable": true,
    "slideshow": {
     "slide_type": "subslide"
    },
    "tags": []
   },
   "source": [
    "## Exercise 3: Create your own style"
   ]
  },
  {
   "cell_type": "markdown",
   "id": "30924879-3237-44b2-b691-f63a1f80a67e",
   "metadata": {
    "editable": true,
    "slideshow": {
     "slide_type": ""
    },
    "tags": []
   },
   "source": [
    "### **Task** for Exercise 3: Try to build a presentation style and a publication style that fits your needs\n",
    "\n",
    "Available options can be found [here](https://github.com/matplotlib/matplotlib/blob/v3.8.4/lib/matplotlib/mpl-data/matplotlibrc). "
   ]
  },
  {
   "cell_type": "code",
   "execution_count": null,
   "id": "13e8e85b-3f72-41a4-b3ed-1dbd29fb8762",
   "metadata": {},
   "outputs": [],
   "source": []
  }
 ],
 "metadata": {
  "kernelspec": {
   "display_name": "Python 3 (ipykernel)",
   "language": "python",
   "name": "python3"
  },
  "language_info": {
   "codemirror_mode": {
    "name": "ipython",
    "version": 3
   },
   "file_extension": ".py",
   "mimetype": "text/x-python",
   "name": "python",
   "nbconvert_exporter": "python",
   "pygments_lexer": "ipython3",
   "version": "3.13.0"
  }
 },
 "nbformat": 4,
 "nbformat_minor": 5
}
