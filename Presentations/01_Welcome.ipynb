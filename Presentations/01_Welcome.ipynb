{
 "cells": [
  {
   "cell_type": "code",
   "execution_count": null,
   "metadata": {},
   "outputs": [],
   "source": []
  },
  {
   "cell_type": "markdown",
   "metadata": {},
   "source": [
    "# Recap of Basic Python features"
   ]
  },
  {
   "cell_type": "markdown",
   "metadata": {},
   "source": [
    "<!--\n",
    " Copyright (c) 2024 Paul Niklas RUth\n",
    " \n",
    " This Source Code Form is subject to the terms of the Mozilla Public\n",
    " License, v. 2.0. If a copy of the MPL was not distributed with this\n",
    " file, You can obtain one at https://mozilla.org/MPL/2.0/.\n",
    "-->\n",
    "\n"
   ]
  },
  {
   "cell_type": "markdown",
   "metadata": {},
   "source": [
    "# We can add functionality to python by importing modules\n",
    "\n",
    "Some of the modules come with\n"
   ]
  },
  {
   "cell_type": "markdown",
   "metadata": {},
   "source": [
    "# Dictionaries are like a labelled drawer containing arbitrary data\n",
    "Data is accessed by keyword"
   ]
  },
  {
   "cell_type": "code",
   "execution_count": 2,
   "metadata": {},
   "outputs": [
    {
     "name": "stdout",
     "output_type": "stream",
     "text": [
      "# Dictionaries are like a labelled drawer containing arbitrary data\n",
      "Data is accessed by keyword\n"
     ]
    }
   ],
   "source": [
    "my_dict = {'name': 'John', 1: [2, 4, 3]}\n",
    "print(\"my_dict['name']:\", my_dict['name'])\n",
    "print(\"my_dict[1]:\", my_dict[1])"
   ]
  },
  {
   "cell_type": "code",
   "execution_count": null,
   "metadata": {},
   "outputs": [],
   "source": []
  }
 ],
 "metadata": {
  "kernelspec": {
   "display_name": "Python 3 (ipykernel)",
   "language": "python",
   "name": "python3"
  },
  "language_info": {
   "codemirror_mode": {
    "name": "ipython",
    "version": 3
   },
   "file_extension": ".py",
   "mimetype": "text/x-python",
   "name": "python",
   "nbconvert_exporter": "python",
   "pygments_lexer": "ipython3",
   "version": "3.12.2"
  }
 },
 "nbformat": 4,
 "nbformat_minor": 2
}
