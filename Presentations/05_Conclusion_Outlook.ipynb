{
 "cells": [
  {
   "cell_type": "markdown",
   "metadata": {},
   "source": [
    "# Conclusion\n",
    "\n",
    " - I hope you have gotten an introduction into calculating with python\n",
    " - It is normal to make many mistakes at the beginning, that number goes down with time"
   ]
  },
  {
   "cell_type": "markdown",
   "metadata": {},
   "source": [
    "# Some lessons I learned painfully\n",
    "- If you are copying a lot of code within a notebook, create a function\n",
    "- If you are copying a lot of long notebooks, create a module.\n",
    "- Type hints and docstrings are favours you can do to your future you\n",
    "- Version control with git is your friend, locally or in a Github repository\n",
    "- If you work with code you want to use for multiple problems look into testing (e.g. pytest)\n"
   ]
  },
  {
   "cell_type": "code",
   "execution_count": null,
   "metadata": {
    "vscode": {
     "languageId": "plaintext"
    }
   },
   "outputs": [],
   "source": []
  },
  {
   "cell_type": "markdown",
   "metadata": {},
   "source": [
    "# Next steps in the analysis"
   ]
  },
  {
   "cell_type": "markdown",
   "metadata": {},
   "source": [
    "## [SciPy.optimize](https://docs.scipy.org/doc/scipy/reference/optimize.html)\n",
    " - General purpose fitting library\n",
    " - can do non-linear least-squares\n",
    " - very efficient if you can provide analytical derivatives\n",
    " - also works with finite difference numerical derivatives, performance is very problem specific\n",
    " \n",
    "General SciPy is also worth a look (e.g. numerical integration, fft...)"
   ]
  },
  {
   "cell_type": "markdown",
   "metadata": {},
   "source": [
    "## [JAX](https://jax.readthedocs.io/en/latest/)\n",
    " - NumPy style syntax\n",
    " - Just-in-time compilation for faster execution, including on GPUs\n",
    " - analytical derivatives for python functions\n"
   ]
  },
  {
   "cell_type": "markdown",
   "metadata": {},
   "source": [
    "# All the specialised libraries from your field \n",
    "(sorry I could only list the ones from Chemistry/Crystallography)"
   ]
  },
  {
   "cell_type": "markdown",
   "metadata": {},
   "source": [
    "# Fill in your attendance and do the evaluation\n",
    " - This is the first time we are conducting this course so feedback is welcome.\n",
    " "
   ]
  },
  {
   "cell_type": "markdown",
   "metadata": {},
   "source": []
  }
 ],
 "metadata": {
  "language_info": {
   "name": "python"
  }
 },
 "nbformat": 4,
 "nbformat_minor": 2
}
