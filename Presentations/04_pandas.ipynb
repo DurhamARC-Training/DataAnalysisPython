{
 "cells": [
  {
   "cell_type": "markdown",
   "metadata": {},
   "source": [
    "![University Logo](../Durham_University.svg)"
   ]
  },
  {
   "cell_type": "markdown",
   "metadata": {
    "editable": true,
    "slideshow": {
     "slide_type": "slide"
    },
    "tags": []
   },
   "source": [
    "# Dictionaries are like a labelled drawer containing arbitrary data\n",
    "Data is accessed by keyword"
   ]
  },
  {
   "cell_type": "code",
   "execution_count": null,
   "metadata": {
    "editable": true,
    "slideshow": {
     "slide_type": ""
    },
    "tags": []
   },
   "outputs": [],
   "source": [
    "# create a mixed dict with a list as content\n"
   ]
  },
  {
   "cell_type": "markdown",
   "metadata": {
    "editable": true,
    "slideshow": {
     "slide_type": "slide"
    },
    "tags": []
   },
   "source": [
    "# Introduction to Pandas\n",
    "\n",
    "Welcome to our session on pandas, a powerful Python library for data analysis that builds on concepts you've learned about NumPy!\n",
    "\n",
    "## What is Pandas?\n",
    "- Open-source library providing, easy-to-use data structures and data analysis tools.\n",
    "- Built on top of NumPy, making it a critical tool for data manipulation in Python.\n",
    "\n",
    "## Why Use Pandas?\n",
    "- Simplifies many complex data operations that are cumbersome or less intuitive in NumPy.\n",
    "- Provides robust tools for working with structured data like time series and structured grids."
   ]
  },
  {
   "cell_type": "markdown",
   "metadata": {
    "editable": true,
    "slideshow": {
     "slide_type": "notes"
    },
    "tags": []
   },
   "source": [
    "Speaker Notes:\n",
    "\n",
    "Begin by linking pandas to NumPy, emphasizing that pandas is not just complementary but specifically designed to enhance and simplify data manipulation tasks in Python. Highlight its utility in handling real-world data complexities efficiently.\n"
   ]
  },
  {
   "cell_type": "markdown",
   "metadata": {
    "editable": true,
    "slideshow": {
     "slide_type": "slide"
    },
    "tags": []
   },
   "source": [
    "# The Connection Between Pandas and NumPy\n",
    "\n",
    "Pandas is built on NumPy and extends its capabilities by providing more flexible data structures.\n",
    "\n",
    "## Pandas and NumPy\n",
    "- **NumPy**: Provides the foundation with its array object, which is designed for efficient numeric computation.\n",
    "- **Pandas**: Uses NumPy arrays to store data, benefiting from NumPy's speed and resources but adds significant functionality for handling data.\n",
    "\n",
    "## Use Cases\n",
    "- **NumPy**: Ideal for performing numerical computations. Focus is on the numerical transformation of data.\n",
    "- **Pandas**: Best for more complex operations involving data cleaning, transformations, and analysis of tabular data.\n",
    "\n",
    "Both can easily be combined"
   ]
  },
  {
   "cell_type": "markdown",
   "metadata": {
    "editable": true,
    "slideshow": {
     "slide_type": "notes"
    },
    "tags": []
   },
   "source": [
    "Speaker Notes:\n",
    "\n",
    "NumPy is a more low-level library. Usually when you would do something in Excel use Pandas. We have columns of distinct but connected data with varying data types"
   ]
  },
  {
   "cell_type": "markdown",
   "metadata": {
    "editable": true,
    "slideshow": {
     "slide_type": "slide"
    },
    "tags": []
   },
   "source": [
    "# Installing and Importing Pandas"
   ]
  },
  {
   "cell_type": "code",
   "execution_count": null,
   "metadata": {
    "editable": true,
    "slideshow": {
     "slide_type": ""
    },
    "tags": []
   },
   "outputs": [],
   "source": [
    "## Importing pandas\n",
    "\n",
    "# Display the version\n"
   ]
  },
  {
   "cell_type": "markdown",
   "metadata": {
    "editable": true,
    "slideshow": {
     "slide_type": "slide"
    },
    "tags": []
   },
   "source": [
    "# Key Data Structures in Pandas\n",
    "\n",
    "Pandas primarily uses two main data structures: `Series` and `DataFrame`.\n",
    "\n",
    "## Series\n",
    "- A one-dimensional array-like object capable of holding any data type.\n",
    "- Each element has an index; the default one ranges from 0 to N, where N is the length of the series minus one.\n",
    "\n",
    "## DataFrame\n",
    "- A two-dimensional, size-mutable, potentially heterogeneous tabular data.\n",
    "- Data is aligned in a tabular fashion in rows and columns.\n",
    "- Think of it as a spreadsheet or SQL table."
   ]
  },
  {
   "cell_type": "markdown",
   "metadata": {
    "editable": true,
    "slideshow": {
     "slide_type": "slide"
    },
    "tags": []
   },
   "source": [
    "## We can create Series from NumPy arrays, lists and dictionaries"
   ]
  },
  {
   "cell_type": "code",
   "execution_count": null,
   "metadata": {
    "editable": true,
    "slideshow": {
     "slide_type": ""
    },
    "tags": []
   },
   "outputs": [],
   "source": [
    "# import numpy\n"
   ]
  },
  {
   "cell_type": "code",
   "execution_count": null,
   "metadata": {
    "editable": true,
    "slideshow": {
     "slide_type": ""
    },
    "tags": []
   },
   "outputs": [],
   "source": [
    "# create a series from a list (size 5)\n"
   ]
  },
  {
   "cell_type": "code",
   "execution_count": null,
   "metadata": {
    "editable": true,
    "slideshow": {
     "slide_type": ""
    },
    "tags": []
   },
   "outputs": [],
   "source": [
    "# create a series from a numpy array (size 5)\n"
   ]
  },
  {
   "cell_type": "code",
   "execution_count": null,
   "metadata": {
    "editable": true,
    "slideshow": {
     "slide_type": ""
    },
    "tags": []
   },
   "outputs": [],
   "source": [
    "# create a series from a dictionary\n"
   ]
  },
  {
   "cell_type": "markdown",
   "metadata": {
    "editable": true,
    "slideshow": {
     "slide_type": "slide"
    },
    "tags": []
   },
   "source": [
    "## We can create a DataFrame from a dictionary \n",
    "The keys of the dictionary are the column labels and entries are objects that can be cast into a series, if they have the same indexing and length"
   ]
  },
  {
   "cell_type": "code",
   "execution_count": null,
   "metadata": {
    "editable": true,
    "slideshow": {
     "slide_type": ""
    },
    "tags": []
   },
   "outputs": [],
   "source": [
    "# create a dataframe from the list and the numpy array\n"
   ]
  },
  {
   "cell_type": "code",
   "execution_count": null,
   "metadata": {
    "editable": true,
    "slideshow": {
     "slide_type": ""
    },
    "tags": []
   },
   "outputs": [],
   "source": [
    "# create another dataframe from the series\n"
   ]
  },
  {
   "cell_type": "markdown",
   "metadata": {
    "editable": true,
    "slideshow": {
     "slide_type": "notes"
    },
    "tags": []
   },
   "source": [
    "Speaker Notes:\n",
    " - A series maps an index to a value\n",
    " - Note that the series can be a continuous integer and that is the default, but that is not mandatory"
   ]
  },
  {
   "cell_type": "markdown",
   "metadata": {
    "editable": true,
    "slideshow": {
     "slide_type": "slide"
    },
    "tags": []
   },
   "source": [
    "# Loading Data with Pandas"
   ]
  },
  {
   "cell_type": "code",
   "execution_count": null,
   "metadata": {
    "editable": true,
    "slideshow": {
     "slide_type": ""
    },
    "tags": []
   },
   "outputs": [],
   "source": [
    "# Load the dataset\n",
    "data_path = '../Data/presentation/DAC_Study_4_PS.sav.csv'\n",
    "\n",
    "# Display the first few rows of the dataframe\n"
   ]
  },
  {
   "cell_type": "markdown",
   "metadata": {
    "editable": true,
    "slideshow": {
     "slide_type": "notes"
    },
    "tags": []
   },
   "source": [
    "Speaker Notes:\n",
    "\n",
    "Introduce the `pd.read_csv` function to load data into a DataFrame. Use the `head()` method to preview the first few rows of the DataFrame. This is often the first step in data analysis, providing a quick snapshot of the dataset structure and available data columns.\n"
   ]
  },
  {
   "cell_type": "markdown",
   "metadata": {
    "editable": true,
    "slideshow": {
     "slide_type": "slide"
    },
    "tags": []
   },
   "source": [
    "# Basic DataFrame Operations"
   ]
  },
  {
   "cell_type": "code",
   "execution_count": null,
   "metadata": {
    "editable": true,
    "slideshow": {
     "slide_type": ""
    },
    "tags": []
   },
   "outputs": [],
   "source": [
    "# Display the shape of the dataframe\n",
    "\n",
    "# Get a concise summary of the dataframe\n"
   ]
  },
  {
   "cell_type": "markdown",
   "metadata": {
    "editable": true,
    "slideshow": {
     "slide_type": "notes"
    },
    "tags": []
   },
   "source": [
    "Speaker Notes:\n",
    "\n",
    "Introduce the `df.info()` method. This function is vital for initial data inspection as it provides a concise summary of the DataFrame, including the index dtype and column dtypes, non-null values, and memory usage. Explain the importance of checking data types and the non-null count to assess data cleaning needs. Point out that the start and end dates have not been converted correctly."
   ]
  },
  {
   "cell_type": "markdown",
   "metadata": {
    "editable": true,
    "slideshow": {
     "slide_type": "slide"
    },
    "tags": []
   },
   "source": [
    "## Converting Date Columns to Datetime\n",
    "Pandas allows us to convert date columns to datetime format for easier manipulation."
   ]
  },
  {
   "cell_type": "code",
   "execution_count": null,
   "metadata": {
    "editable": true,
    "slideshow": {
     "slide_type": ""
    },
    "tags": []
   },
   "outputs": [],
   "source": [
    "# Convert 'StartDate' and 'EndDate' to datetime\n",
    "\n",
    "# Display the types to confirm conversion\n"
   ]
  },
  {
   "cell_type": "markdown",
   "metadata": {
    "editable": true,
    "slideshow": {
     "slide_type": "slide"
    },
    "tags": []
   },
   "source": [
    "# Using `describe` for a quick statistical analysis"
   ]
  },
  {
   "cell_type": "code",
   "execution_count": null,
   "metadata": {
    "editable": true,
    "slideshow": {
     "slide_type": ""
    },
    "tags": []
   },
   "outputs": [],
   "source": [
    "# Descriptive statistics for numeric columns\n"
   ]
  },
  {
   "cell_type": "markdown",
   "metadata": {
    "editable": true,
    "slideshow": {
     "slide_type": ""
    },
    "tags": []
   },
   "source": [
    "Speaker Notes:\n",
    "\n",
    "Introduce the `df.describe()` method, which provides descriptive statistics that summarize the central tendency, dispersion, and shape of a dataset's distribution, excluding NaN values. Explain what each statistic means (count, mean, std, min, etc.) and how they can be used to gain insights into the dataset, such as understanding data distribution, spotting outliers, and setting the stage for further data exploration and analysis.\n"
   ]
  },
  {
   "cell_type": "markdown",
   "metadata": {
    "editable": true,
    "slideshow": {
     "slide_type": "slide"
    },
    "tags": []
   },
   "source": [
    "# Some background on the dataset\n",
    "The original publication has been done in [Gino & Wiltermuth (2014), Evil Genius? : How Dishonesty Can Lead to Greater Creativity](https://doi.org/10.1177/0956797614520714)\n",
    "\n",
    "However, we reproduce the analysis done in the blog post [Uri, Joe, & Leif (2023): [111] Data Falsificada (Part 3): \"The Cheaters Are Out of Order\"](https://datacolada.org/111)\n",
    "\n",
    "The originial study indicated the relationship between dishonesty and creativity. \n",
    " - First participants reported a coin toss result, which incentivised cheating\n",
    " - Afterwards they were asked to give the number of uses for a newspaper\n"
   ]
  },
  {
   "cell_type": "markdown",
   "metadata": {
    "editable": true,
    "slideshow": {
     "slide_type": "slide"
    },
    "tags": []
   },
   "source": [
    "# Where do we find the data we want to look at?\n",
    "## Dataset Columns\n",
    "- `cheated`: Indicates whether participants cheated on the coin toss task (0 = did not cheat; 1 = cheated).\n",
    "- `Numberofresponses`: The number of creative uses for a newspaper generated by the participants.\n",
    "\n",
    "We can access the pd.Series belonging to these columns by name just as we would in a dictionary"
   ]
  },
  {
   "cell_type": "code",
   "execution_count": null,
   "metadata": {
    "editable": true,
    "slideshow": {
     "slide_type": ""
    },
    "tags": []
   },
   "outputs": [],
   "source": [
    "# access the cheated and the Numberofresponses columns\n"
   ]
  },
  {
   "cell_type": "markdown",
   "metadata": {
    "editable": true,
    "slideshow": {
     "slide_type": "slide"
    },
    "tags": []
   },
   "source": [
    "## Data Selection with loc and iloc"
   ]
  },
  {
   "cell_type": "code",
   "execution_count": null,
   "metadata": {
    "editable": true,
    "slideshow": {
     "slide_type": ""
    },
    "tags": []
   },
   "outputs": [],
   "source": [
    "# Select columns by name using loc\n",
    "\n",
    "# display the first five rows\n"
   ]
  },
  {
   "cell_type": "code",
   "execution_count": null,
   "metadata": {
    "editable": true,
    "slideshow": {
     "slide_type": ""
    },
    "tags": []
   },
   "outputs": [],
   "source": [
    "# Select rows and columns by index using iloc\n",
    "\n",
    "# display the first five rows"
   ]
  },
  {
   "cell_type": "markdown",
   "metadata": {
    "editable": true,
    "slideshow": {
     "slide_type": "slide"
    },
    "tags": []
   },
   "source": [
    "## A word of warning about chained assignment"
   ]
  },
  {
   "cell_type": "code",
   "execution_count": null,
   "metadata": {
    "editable": true,
    "slideshow": {
     "slide_type": ""
    },
    "tags": []
   },
   "outputs": [],
   "source": [
    "df[['StartDate', 'EndDate']][0:5] = df[['StartDate', 'EndDate']][0:5]\n",
    "#  Here lies the problem          -   The access here is fine"
   ]
  },
  {
   "cell_type": "markdown",
   "metadata": {},
   "source": [
    "Use this notation for access to data but not for assingment!"
   ]
  },
  {
   "cell_type": "markdown",
   "metadata": {
    "editable": true,
    "slideshow": {
     "slide_type": "notes"
    },
    "tags": []
   },
   "source": [
    "Speaker Notes\n",
    "\n",
    "- **Chained Assignment**: Refers to the use of back-to-back square brackets (`df[][]`) for selecting data and making assignments. While it might work sometimes, it can lead to unexpected results or warnings about a `SettingWithCopyWarning`.\n",
    "\n",
    "Explain why chained assignment can be problematic:\n",
    "- This method might return a copy rather than a view of the DataFrame, meaning changes made won’t actually reflect in the original DataFrame. This can lead to data integrity issues, especially in data preprocessing stages.\n",
    "\n",
    "Provide a solution:\n",
    "- Use `.loc` or `.iloc` for a more stable and reliable way to select data and assign values. These accessors are explicitly designed to handle setting values safely and efficiently."
   ]
  },
  {
   "cell_type": "markdown",
   "metadata": {
    "editable": true,
    "slideshow": {
     "slide_type": "slide"
    },
    "tags": []
   },
   "source": [
    "## Handling Missing Values"
   ]
  },
  {
   "cell_type": "code",
   "execution_count": null,
   "metadata": {
    "editable": true,
    "slideshow": {
     "slide_type": ""
    },
    "tags": []
   },
   "outputs": [],
   "source": [
    "# use isnull() to check for missing values\n",
    "# get sum to test for the number of missing values per column\n",
    "\n",
    "# output columns with missing values\n"
   ]
  },
  {
   "cell_type": "markdown",
   "metadata": {
    "editable": true,
    "slideshow": {
     "slide_type": "slide"
    },
    "tags": []
   },
   "source": [
    "## This in example of how you might fill missing data\n",
    "This is a technical demonstration, if or how to actually impute missing data is highly dependent on your field, but never the optimal solution."
   ]
  },
  {
   "cell_type": "code",
   "execution_count": null,
   "metadata": {},
   "outputs": [],
   "source": [
    "# Fill missing numeric values with the median\n"
   ]
  },
  {
   "cell_type": "markdown",
   "metadata": {
    "editable": true,
    "slideshow": {
     "slide_type": "slide"
    },
    "tags": []
   },
   "source": [
    "## Boolean data selection"
   ]
  },
  {
   "cell_type": "code",
   "execution_count": null,
   "metadata": {
    "editable": true,
    "slideshow": {
     "slide_type": ""
    },
    "tags": []
   },
   "outputs": [],
   "source": [
    "# Using conditions to filter rows with more than ten responses\n",
    "\n",
    "# Display the head of filtered data\n"
   ]
  },
  {
   "cell_type": "code",
   "execution_count": null,
   "metadata": {
    "editable": true,
    "slideshow": {
     "slide_type": ""
    },
    "tags": []
   },
   "outputs": [],
   "source": [
    "# Using loc with conditions to get only the cheated and Numberofresponses columns for rows with a large number of responses\n",
    "\n",
    "# Display the head of filtered data"
   ]
  },
  {
   "cell_type": "markdown",
   "metadata": {
    "editable": true,
    "slideshow": {
     "slide_type": "slide"
    },
    "tags": []
   },
   "source": [
    "## Selecting Relevant Data for Analysis"
   ]
  },
  {
   "cell_type": "code",
   "execution_count": null,
   "metadata": {
    "editable": true,
    "slideshow": {
     "slide_type": ""
    },
    "tags": []
   },
   "outputs": [],
   "source": [
    "# Create a new DataFrame with only necessary columns\n",
    "\n",
    "# Display the new DataFrame to confirm selection\n"
   ]
  },
  {
   "cell_type": "markdown",
   "metadata": {
    "editable": true,
    "slideshow": {
     "slide_type": "notes"
    },
    "tags": []
   },
   "source": [
    "Speaker notes:\n",
    "- Reducing the DataFrame size not only helps in speeding up computations but also in avoiding potential errors or confusion from irrelevant data.\n",
    "- Using `.copy()` ensures that `df_work` is a separate object, preventing any SettingWithCopy warnings or errors when modifying this new DataFrame."
   ]
  },
  {
   "cell_type": "markdown",
   "metadata": {
    "editable": true,
    "slideshow": {
     "slide_type": "slide"
    },
    "tags": []
   },
   "source": [
    "## Preparing Data for Analysis"
   ]
  },
  {
   "cell_type": "code",
   "execution_count": null,
   "metadata": {
    "editable": true,
    "slideshow": {
     "slide_type": ""
    },
    "tags": []
   },
   "outputs": [],
   "source": [
    "# Select non-cheaters and display the first 7 rows\n"
   ]
  },
  {
   "cell_type": "code",
   "execution_count": null,
   "metadata": {},
   "outputs": [],
   "source": [
    "# Select cheaters and display the first 7 rows\n"
   ]
  },
  {
   "cell_type": "markdown",
   "metadata": {
    "editable": true,
    "slideshow": {
     "slide_type": "slide"
    },
    "tags": []
   },
   "source": [
    "## Conducting T-Tests\n",
    "We can now reproduce the analysis of the original publication from 2014"
   ]
  },
  {
   "cell_type": "code",
   "execution_count": null,
   "metadata": {
    "editable": true,
    "slideshow": {
     "slide_type": ""
    },
    "tags": []
   },
   "outputs": [],
   "source": [
    "from scipy.stats import ttest_ind\n",
    "# calculate the ttest value for the numberofresponses of cheaters and non-cheaters\n",
    "\n",
    "# calculate the mean and std of number of responses for cheaters and non-cheaters\n"
   ]
  },
  {
   "cell_type": "markdown",
   "metadata": {
    "editable": true,
    "slideshow": {
     "slide_type": "notes"
    },
    "tags": []
   },
   "source": [
    "Speaker notes:\n",
    " - NumPy function directly work with pandas Series as well\n",
    " - Everything is great?"
   ]
  },
  {
   "cell_type": "markdown",
   "metadata": {
    "editable": true,
    "slideshow": {
     "slide_type": "slide"
    },
    "tags": []
   },
   "source": [
    "## The sorting of the data indicates manipulation\n",
    "We can have a look by using matplotlib"
   ]
  },
  {
   "cell_type": "code",
   "execution_count": null,
   "metadata": {
    "editable": true,
    "slideshow": {
     "slide_type": ""
    },
    "tags": []
   },
   "outputs": [],
   "source": [
    "# create a plot of index versus number of responses, color by the cheated column\n"
   ]
  },
  {
   "cell_type": "markdown",
   "metadata": {
    "editable": true,
    "slideshow": {
     "slide_type": "notes"
    },
    "tags": []
   },
   "source": [
    "Speaker notes:\n",
    " - **Color**: Participants who cheated are indicated with red, non-cheaters in blue\n",
    " - The dataset seems to be ordered by cheaters and non-cheaters\n",
    " - Within the categories, the non-cheaters are ordered by number of responses, a portion of the cheaters is ordered by number of responses as well\n"
   ]
  },
  {
   "cell_type": "markdown",
   "metadata": {
    "editable": true,
    "slideshow": {
     "slide_type": "slide"
    },
    "tags": []
   },
   "source": [
    "#  Implementing a Function to Enforce Monotonicity"
   ]
  },
  {
   "cell_type": "code",
   "execution_count": null,
   "metadata": {
    "editable": true,
    "slideshow": {
     "slide_type": ""
    },
    "tags": []
   },
   "outputs": [],
   "source": [
    "import numpy as np\n",
    "\n",
    "# implement a function by checking if value higher than the min of value + next 4\n",
    "# correct value to min if True\n",
    "\n",
    "# Apply the function to the cheated values and create a new column ImputedResponses\n",
    "\n",
    "# fill the missing values for non-cheaters from the original data\n",
    "\n",
    "# Display the original and imputed data\n"
   ]
  },
  {
   "cell_type": "markdown",
   "metadata": {
    "editable": true,
    "slideshow": {
     "slide_type": "slide"
    },
    "tags": []
   },
   "source": [
    "# Visualizing Before and After Imputation"
   ]
  },
  {
   "cell_type": "code",
   "execution_count": null,
   "metadata": {
    "editable": true,
    "slideshow": {
     "slide_type": ""
    },
    "tags": []
   },
   "outputs": [],
   "source": [
    "# Create a new matplotlib figure to check that the function was successful\n",
    "\n",
    "# create DataFrame view with cheaters\n",
    "\n",
    "# Plot Original Data\n",
    "\n",
    "# Plot Imputed Data\n"
   ]
  },
  {
   "cell_type": "markdown",
   "metadata": {
    "editable": true,
    "slideshow": {
     "slide_type": "slide"
    },
    "tags": []
   },
   "source": [
    "## Rerun the statistical analysis\n",
    "Although we have imputed high (if in doubt take the higher number of responses), the significance has vanished"
   ]
  },
  {
   "cell_type": "code",
   "execution_count": null,
   "metadata": {
    "editable": true,
    "slideshow": {
     "slide_type": ""
    },
    "tags": []
   },
   "outputs": [],
   "source": [
    "# recreate the analysis with the imputed data\n",
    "\n",
    "# calculate the mean and std of number of responses for cheaters and non-cheaters\n"
   ]
  },
  {
   "cell_type": "markdown",
   "metadata": {
    "editable": true,
    "slideshow": {
     "slide_type": "slide"
    },
    "tags": []
   },
   "source": [
    "## Grouping Data for Analysis"
   ]
  },
  {
   "cell_type": "code",
   "execution_count": null,
   "metadata": {
    "editable": true,
    "slideshow": {
     "slide_type": ""
    },
    "tags": []
   },
   "outputs": [],
   "source": [
    "# groupby cheated and calculate new means\n"
   ]
  },
  {
   "cell_type": "code",
   "execution_count": null,
   "metadata": {
    "editable": true,
    "slideshow": {
     "slide_type": ""
    },
    "tags": []
   },
   "outputs": [],
   "source": [
    "# groupby cheated and calculate new standard deviations\n"
   ]
  },
  {
   "cell_type": "markdown",
   "metadata": {
    "editable": true,
    "slideshow": {
     "slide_type": "notes"
    },
    "tags": []
   },
   "source": [
    "Explain the use of `groupby` in pandas:\n",
    "- **Purpose**: `groupby` allows us to segment the dataset into subsets based on unique values of a variable, in this case, 'cheated'. It's particularly useful for performing calculations separately within these segments.\n",
    "\n",
    "Discuss the significance of comparing averages:\n",
    "- By grouping by the 'cheated' status and calculating the mean number of responses, we can directly compare the creativity scores of cheaters versus non-cheaters.\n",
    "- This helps illustrate the practical application of group-based analysis in real-world datasets, showing how data manipulation and analysis techniques can reveal underlying patterns or confirm hypotheses.\n",
    "\n",
    "Encourage participants to think about how these techniques can be applied to their own data projects, highlighting the importance of group-based analyses in many fields, including marketing, healthcare, and public policy."
   ]
  },
  {
   "cell_type": "markdown",
   "metadata": {
    "slideshow": {
     "slide_type": "slide"
    }
   },
   "source": [
    "# Using pd.merge to combine data of different dataframes\n",
    "We will now demonstrate the pandas merge function. This has nothing to do with the research question. We will however use the data as mock data.\n",
    "\n",
    "Let us say we have a grading scheme for the number of responses, and want to give each participant a grade for their number of responses."
   ]
  },
  {
   "cell_type": "code",
   "execution_count": null,
   "metadata": {},
   "outputs": [],
   "source": [
    "# grading scheme\n",
    "grades = pd.DataFrame({\n",
    "    'Numberofresponses': [ 2,  3,  4,  5,  6,  7,  8,  9, 10, 11, 12, 13, 14],\n",
    "    'Grade': ['F', 'F', 'F', 'D', 'D', 'C', 'C', 'C', 'B', 'B', 'B', 'A', 'A']\n",
    "})\n",
    "\n",
    "# merge the grades with the data\n"
   ]
  },
  {
   "cell_type": "markdown",
   "metadata": {
    "slideshow": {
     "slide_type": "notes"
    }
   },
   "source": [
    "Speaker Notes:\n",
    "- Explain the different merge types: \n",
    "  - 'outer': Create new lines with NaN if in any of the two DataFrames\n",
    "  - 'inner': Only include where values shared in both DataFrames\n",
    "  - 'left': Omit if not in first DataFrame\n",
    "  - 'right': Omit if not in second DataFrame"
   ]
  },
  {
   "cell_type": "markdown",
   "metadata": {
    "editable": true,
    "slideshow": {
     "slide_type": "slide"
    },
    "tags": []
   },
   "source": [
    "# Key Takeaways\n",
    "\n",
    "Today, we've covered a wide range of topics in pandas, aimed at giving you the tools to perform basic data manipulation, analysis, and visualization:\n",
    "\n",
    "1. **Data Loading and Cleaning**: How to load data from various sources and clean it for analysis.\n",
    "2. **Data Selection and Manipulation**: Techniques for selecting, filtering, and adjusting data.\n",
    "3. **Statistical Analysis**: Using t-tests to compare groups within your data.\n",
    "4. **Data Visualization**: Creating plots to visualize data discrepancies and distributions.\n",
    "5. **Grouping Data**: How to segment data for grouped analyses and comparisons.\n",
    "6. **Merging Data**: How to combine data from two different sources.\n"
   ]
  },
  {
   "cell_type": "markdown",
   "metadata": {},
   "source": []
  }
 ],
 "metadata": {
  "kernelspec": {
   "display_name": "Python 3 (ipykernel)",
   "language": "python",
   "name": "python3"
  },
  "language_info": {
   "codemirror_mode": {
    "name": "ipython",
    "version": 3
   },
   "file_extension": ".py",
   "mimetype": "text/x-python",
   "name": "python",
   "nbconvert_exporter": "python",
   "pygments_lexer": "ipython3",
   "version": "3.12.2"
  }
 },
 "nbformat": 4,
 "nbformat_minor": 4
}
