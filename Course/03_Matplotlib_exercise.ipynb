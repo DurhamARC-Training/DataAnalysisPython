{
 "cells": [
  {
   "cell_type": "markdown",
   "id": "f9ab6862-0066-401f-af94-bd34a2ea1795",
   "metadata": {},
   "source": [
    "# Exercises for using Matplotlib"
   ]
  },
  {
   "cell_type": "markdown",
   "id": "7c725a92-5308-489b-bd5c-24c419704ed9",
   "metadata": {
    "jp-MarkdownHeadingCollapsed": true
   },
   "source": [
    "## Exercise 1: Visualise the points as scatter plots and show the regression line"
   ]
  },
  {
   "cell_type": "markdown",
   "id": "b18dd0cb-f9d8-4c50-9328-5fb057635f0d",
   "metadata": {},
   "source": [
    "### Preparation for Exercise 1"
   ]
  },
  {
   "cell_type": "markdown",
   "id": "bf99b49d-c1ec-4467-845c-0bceb2937176",
   "metadata": {},
   "source": [
    "#### 1) Loading Data from a json file"
   ]
  },
  {
   "cell_type": "code",
   "execution_count": null,
   "id": "372825d9-d59a-4a8d-bd62-d47c4049d4bf",
   "metadata": {},
   "outputs": [],
   "source": [
    "# Load json module\n",
    "import json\n",
    "\n",
    "# create a file open context manager and load dict from JSON\n",
    "\n",
    "# print the data using the items method of the dict\n"
   ]
  },
  {
   "cell_type": "markdown",
   "id": "4dbc9cf3-ba57-4c93-901b-ea9ed485b9be",
   "metadata": {},
   "source": [
    "#### 2) Using np.polyfit to generate a linear fit\n",
    "A linear fit is a polynomial of grade 1"
   ]
  },
  {
   "cell_type": "code",
   "execution_count": null,
   "id": "5c6c19fc-bb96-4b60-ab08-15daf15851cd",
   "metadata": {},
   "outputs": [],
   "source": [
    "# import matplotlib and NumPy\n",
    "import matplotlib.pyplot as plt\n",
    "import numpy as np\n",
    "\n",
    "# get the first dataset, then get its x and y value\n",
    "\n",
    "# do the polynomial fit\n",
    "\n",
    "#print(f'for y = mx + b, m={fit[0]}, b={fit[1]}')\n",
    "\n",
    "# also get the sum of squared residuals"
   ]
  },
  {
   "cell_type": "markdown",
   "id": "3c96fd42-669b-4b4b-8034-afbb9be176fe",
   "metadata": {},
   "source": [
    "### **Task** for Exercise 1:\n",
    "We can use [`np.polyfit`](https://numpy.org/doc/stable/reference/generated/numpy.polyfit.html) for a simple linear regression. Use this to visualise and fit [Anscombe's quartett](https://www.tandfonline.com/doi/pdf/10.1080/00031305.1973.10478966?casa_token=z4BCXsE0A6UAAAAA:vWsA4gecHin1egQWK2Zrby8wstIsoLwsmwbruFx_EoYQKjUhTBy71jxv2QAwR5GXHNd567UrOSEh) (compare your results with figures 1-4 in the article) using the data located in `exercise_data/anscombe.json`.\n",
    "\n",
    "Visualise the points as scatter plots and show the regression line. Give labels to the axes and try to vary the colors of the individual components. If you want you can also create a separate plot for the fitting statistics. For the reference about the plot types in matplotlib (including scatter plots) look [here](https://matplotlib.org/stable/plot_types/index.html)."
   ]
  },
  {
   "cell_type": "code",
   "execution_count": null,
   "id": "67d23485-6271-4ce4-a3f2-7aeed68229bb",
   "metadata": {},
   "outputs": [],
   "source": [
    "# Your solution here\n"
   ]
  },
  {
   "cell_type": "markdown",
   "id": "026ffe9b-ce7d-4256-bd6e-ad9e7e98f77e",
   "metadata": {
    "jp-MarkdownHeadingCollapsed": true
   },
   "source": [
    "## Exercise 2: Create your own style"
   ]
  },
  {
   "cell_type": "markdown",
   "id": "8a72f158-6a42-4c83-a30b-fbc300080bde",
   "metadata": {},
   "source": [
    "### **Task 1**: Create a mock of graphs from your field\n",
    "\n",
    "Create a selection of graphs using `np.linspace`, `np.random.rand` and the numpy functions that are somewhat representative of a figure you might publish."
   ]
  },
  {
   "cell_type": "code",
   "execution_count": null,
   "id": "82dc5b21-7022-4eb2-9dbe-fd2175dccfcb",
   "metadata": {},
   "outputs": [],
   "source": [
    "# Your solution here\n"
   ]
  },
  {
   "cell_type": "markdown",
   "id": "30924879-3237-44b2-b691-f63a1f80a67e",
   "metadata": {},
   "source": [
    "### **Task 2**: Try to build a presentation style and a publication style that fits your needs\n",
    "\n",
    "Available options can be found [here](https://github.com/matplotlib/matplotlib/blob/v3.8.4/lib/matplotlib/mpl-data/matplotlibrc). "
   ]
  },
  {
   "cell_type": "code",
   "execution_count": null,
   "id": "d0db3fc9-f92e-4a5d-8e2b-b3d985d8546c",
   "metadata": {},
   "outputs": [],
   "source": [
    "# Your solution here\n"
   ]
  }
 ],
 "metadata": {
  "kernelspec": {
   "display_name": "Python 3 (ipykernel)",
   "language": "python",
   "name": "python3"
  },
  "language_info": {
   "codemirror_mode": {
    "name": "ipython",
    "version": 3
   },
   "file_extension": ".py",
   "mimetype": "text/x-python",
   "name": "python",
   "nbconvert_exporter": "python",
   "pygments_lexer": "ipython3",
   "version": "3.13.0"
  }
 },
 "nbformat": 4,
 "nbformat_minor": 5
}
