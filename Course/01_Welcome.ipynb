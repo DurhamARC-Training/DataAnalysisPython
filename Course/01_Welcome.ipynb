{
 "cells": [
  {
   "cell_type": "markdown",
   "metadata": {
    "editable": true,
    "slideshow": {
     "slide_type": "slide"
    },
    "tags": []
   },
   "source": [
    "# Data Analysis with Python\n",
    "\n",
    "## Course by Advanced Research Computing\n",
    "Tutors: Dmitry Nikolaenko, Thomas Flynn"
   ]
  },
  {
   "cell_type": "markdown",
   "metadata": {
    "slideshow": {
     "slide_type": "slide"
    }
   },
   "source": [
    "# Setting up your computer\n",
    "Use one of these possibilities\n",
    " - https://notebooks.dmaitre.phyip3.dur.ac.uk/arc --> The Jupyter Notebook server set up by Daniel Maitre from the Physics department (log in with you CIS account; loading process may take some time).\n",
    " - Your own Jupyter Notebook or Jupyter Lab --> If you haven't installed either of them yet, you can do so using pip (Python's package manager) or conda (a package manager from Anaconda). See an installation script example in the attachment if you have already conda in your system or follow the installation steps for pip on https://jupyter.org/install.\n",
    " - https://colab.research.google.com/ --> Google Colaboratory is a free cloud-based service hosted by Google. You don't need to worry about installing, all necessary libraries are already provided in the cloud."
   ]
  },
  {
   "cell_type": "markdown",
   "metadata": {
    "slideshow": {
     "slide_type": "slide"
    }
   },
   "source": [
    "# Getting the Data\n",
    "\n",
    "- Access https://github.com/DurhamARC-Training/DataAnalysisPython and download the `Course` directory\n",
    "- The `Filled_Course` directory contains the filled in exercises for reference\n",
    "- There is also a python script which downloads everything (including the filled notebook) as a ZIP archive and extracts it a folder if GIT isn't available:\n",
    "\n",
    "  a. Download the `pull_files_from_repo.py` file and put it into your environment\n",
    "\n",
    "  b. Execute `python pull_files_from_repo.py` in the folder."
   ]
  },
  {
   "cell_type": "code",
   "execution_count": null,
   "metadata": {},
   "outputs": [],
   "source": []
  }
 ],
 "metadata": {
  "kernelspec": {
   "display_name": "Python 3 (ipykernel)",
   "language": "python",
   "name": "python3"
  },
  "language_info": {
   "codemirror_mode": {
    "name": "ipython",
    "version": 3
   },
   "file_extension": ".py",
   "mimetype": "text/x-python",
   "name": "python",
   "nbconvert_exporter": "python",
   "pygments_lexer": "ipython3",
   "version": "3.10.12"
  }
 },
 "nbformat": 4,
 "nbformat_minor": 4
}
