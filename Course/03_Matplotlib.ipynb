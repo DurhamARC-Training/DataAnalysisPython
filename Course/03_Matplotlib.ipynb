{
 "cells": [
  {
   "cell_type": "markdown",
   "id": "ebe13f28",
   "metadata": {},
   "source": [
    "![University Logo](../Durham_University.svg)"
   ]
  },
  {
   "cell_type": "markdown",
   "id": "054e5281",
   "metadata": {
    "slideshow": {
     "slide_type": "slide"
    }
   },
   "source": [
    "# Introduction into matplotlib.pyplot"
   ]
  },
  {
   "cell_type": "code",
   "execution_count": null,
   "id": "31782338-1b7b-434b-9411-30a36be045e8",
   "metadata": {},
   "outputs": [],
   "source": [
    "# Import matplotlib and NumPy\n"
   ]
  },
  {
   "cell_type": "markdown",
   "id": "f5d5550b",
   "metadata": {
    "slideshow": {
     "slide_type": "slide"
    }
   },
   "source": [
    "## Using matplotlib pyplot\n",
    "For quick plotting we can directly use the matplotlib.pyplot functions. The different available plots can be found in the [matplotlib documentation](https://matplotlib.org/stable/plot_types/index.html)."
   ]
  },
  {
   "cell_type": "code",
   "execution_count": null,
   "id": "1c70a6ae-6e58-475c-bb2d-c7a49c036552",
   "metadata": {},
   "outputs": [],
   "source": [
    "# Create data for plotting π between 0 and 2*π\n",
    "x = np.linspace(0, 2*np.pi, 100)\n",
    "y = np.sin(x)"
   ]
  },
  {
   "cell_type": "code",
   "execution_count": null,
   "id": "39e06d4b",
   "metadata": {},
   "outputs": [],
   "source": [
    "# Create a simple plot of a sin function using plt\n",
    "\n",
    "# Show the plot\n"
   ]
  },
  {
   "cell_type": "markdown",
   "id": "cd300958",
   "metadata": {},
   "source": [
    "# Usually I would always use subplots\n",
    "Still, the different available plots can be found in the [matplotlib documentation](https://matplotlib.org/stable/plot_types/index.html)."
   ]
  },
  {
   "cell_type": "code",
   "execution_count": null,
   "id": "d04f7ff1",
   "metadata": {
    "editable": true,
    "slideshow": {
     "slide_type": ""
    },
    "tags": []
   },
   "outputs": [],
   "source": [
    "# Create the same plot using figure and axes\n",
    "\n",
    "# Plot the data on the subplots\n",
    "\n",
    "# Show the plot\n"
   ]
  },
  {
   "cell_type": "markdown",
   "id": "504b767e",
   "metadata": {
    "slideshow": {
     "slide_type": "notes"
    }
   },
   "source": [
    "Speaker notes:\n",
    " - Show more complex LaTex equation\n",
    " - Show colors\n",
    "  - by name, e.g. 'blue'\n",
    "  - by Hexcode, e.g. '#123456'\n",
    "  - by colour scheme colour, e.g. 'C1'"
   ]
  },
  {
   "cell_type": "markdown",
   "id": "bc55900e",
   "metadata": {
    "slideshow": {
     "slide_type": "slide"
    }
   },
   "source": [
    "## If there are multiple plots using subplots is usually the better idea"
   ]
  },
  {
   "cell_type": "code",
   "execution_count": null,
   "id": "eabff3c1-fd0c-46fc-8c43-85f87c488bb0",
   "metadata": {},
   "outputs": [],
   "source": [
    "# Create data for plotting the sin and cos as the multiple plots in [0, 2π]\n",
    "x = np.linspace(0, 2*np.pi, 100)\n",
    "y1 = np.sin(x)\n",
    "y2 = np.cos(x)"
   ]
  },
  {
   "cell_type": "code",
   "execution_count": null,
   "id": "91d698a7",
   "metadata": {},
   "outputs": [],
   "source": [
    "# Create a figure and subplots\n",
    "fig, ax = plt.subplots()\n",
    "\n",
    "# Plot the data on the subplots\n",
    "\n",
    "# Set titles and labels for each subplot\n",
    "\n",
    "# Add legends to the subplots\n",
    "\n",
    "# Adjust the spacing between subplots\n",
    "\n",
    "# Show the plot\n",
    "plt.show()"
   ]
  },
  {
   "cell_type": "markdown",
   "id": "4e641f1f",
   "metadata": {},
   "source": [
    "Speaker Notes:\n",
    " - Also demonstrate multiple plots in one subplot"
   ]
  },
  {
   "cell_type": "markdown",
   "id": "bdc9d421",
   "metadata": {
    "jp-MarkdownHeadingCollapsed": true
   },
   "source": [
    "# _Exercise 1 (see the exercises notebook)_"
   ]
  },
  {
   "cell_type": "markdown",
   "id": "f5731975",
   "metadata": {},
   "source": [
    "# Encoding information\n",
    "We can encode information in different ways. The three ways are: position, [color](https://matplotlib.org/stable/users/explain/colors/colormaps.html) and size."
   ]
  },
  {
   "cell_type": "code",
   "execution_count": null,
   "id": "952d40dc",
   "metadata": {
    "slideshow": {
     "slide_type": "slide"
    }
   },
   "outputs": [],
   "source": [
    "# Generate random data\n",
    "np.random.seed(0)\n",
    "x = np.random.randn(100)\n",
    "y = np.random.randn(100)"
   ]
  },
  {
   "cell_type": "code",
   "execution_count": null,
   "id": "5673160f",
   "metadata": {},
   "outputs": [],
   "source": [
    "# Create a figure and subplots\n",
    "fig, ax = plt.subplots()\n",
    "\n",
    "# Create a scatter plot, use colour and size for encoding\n",
    "\n",
    "# Set plot title and labels\n",
    "\n",
    "# Customize plot appearance using grid and legend\n",
    "\n",
    "# Show the plot\n",
    "plt.show()"
   ]
  },
  {
   "cell_type": "markdown",
   "id": "ed9c0c9a",
   "metadata": {},
   "source": [
    "# Plotting categorical data"
   ]
  },
  {
   "cell_type": "code",
   "execution_count": null,
   "id": "5251eea8-435f-4e28-86ee-30347c6b5291",
   "metadata": {},
   "outputs": [],
   "source": [
    "# Load data from a text file\n",
    "country, gdp = np.loadtxt(\n",
    "    '../Data/presentation/GDP_G7.csv',\n",
    "    unpack=True,\n",
    "    dtype='<U15,float64',\n",
    "    delimiter=','\n",
    ")"
   ]
  },
  {
   "cell_type": "code",
   "execution_count": null,
   "id": "f9fee3ec",
   "metadata": {
    "editable": true,
    "slideshow": {
     "slide_type": ""
    },
    "tags": []
   },
   "outputs": [],
   "source": [
    "# Create figure and axes\n",
    "fig, ax = plt.subplots()\n",
    "\n",
    "# Create a bar plot\n",
    "\n",
    "# Set xticklabel, including rotation\n",
    "\n",
    "# Demonstrate horizontal bar plot\n",
    "\n",
    "# Show the plot\n",
    "plt.show()"
   ]
  },
  {
   "cell_type": "markdown",
   "id": "bed1a1e1",
   "metadata": {
    "slideshow": {
     "slide_type": "notes"
    }
   },
   "source": [
    "Speaker Notes:\n",
    " - Labels usually get very long, we can rotate them\n",
    " - Usually the nicer option is a horizontal bar chart."
   ]
  },
  {
   "cell_type": "markdown",
   "id": "015ae8ff",
   "metadata": {},
   "source": [
    "## If there is no inherent reason to sort data a certain way, sort by size"
   ]
  },
  {
   "cell_type": "code",
   "execution_count": null,
   "id": "661a6bfe-1112-4dff-85b8-874645a2f331",
   "metadata": {},
   "outputs": [],
   "source": [
    "# Create indexes for sorting the arrays\n",
    "indexes = np.argsort(gdp)"
   ]
  },
  {
   "cell_type": "code",
   "execution_count": null,
   "id": "84e8783f",
   "metadata": {
    "editable": true,
    "slideshow": {
     "slide_type": ""
    },
    "tags": []
   },
   "outputs": [],
   "source": [
    "# Create figure and axes\n",
    "fig, ax = plt.subplots()\n",
    "\n",
    "# Create sorted horizontal bar plot\n",
    "\n",
    "# Show the plot\n",
    "plt.show()"
   ]
  },
  {
   "cell_type": "markdown",
   "id": "7b197375",
   "metadata": {
    "jp-MarkdownHeadingCollapsed": true,
    "slideshow": {
     "slide_type": "slide"
    }
   },
   "source": [
    "## We can also set styles using an mplstyle file\n",
    "\n",
    "Why use a style file, if we can just copy options:\n",
    " - We can replot a graph for different purposes (talk, paper, grant application, thesis...).\n",
    " - If we have multiple notebooks for one paper, it is still easy to keep a consistent style and not forget to copy a redesign to \"that one\" graph.\n",
    " - Our notebooks will be less messy."
   ]
  },
  {
   "cell_type": "markdown",
   "id": "ebc7916c",
   "metadata": {},
   "source": [
    "## There is different levels to applying a style\n",
    "Apply globally to all following plots, we can also apply colors to the individual values."
   ]
  },
  {
   "cell_type": "code",
   "execution_count": null,
   "id": "ad6a9ac6-1ca2-4120-9bb7-48dcd694f7ba",
   "metadata": {},
   "outputs": [],
   "source": [
    "# Set the plot style\n",
    "plt.style.use('../mpl_styles/colors.mplstyle')\n",
    "colors = ['C1', 'C1', 'C2', 'C2', 'C3', 'C4', 'C5']"
   ]
  },
  {
   "cell_type": "code",
   "execution_count": null,
   "id": "6138f5cb",
   "metadata": {
    "editable": true,
    "slideshow": {
     "slide_type": ""
    },
    "tags": []
   },
   "outputs": [],
   "source": [
    "# Create figure and axes\n",
    "fig, ax = plt.subplots()\n",
    "\n",
    "# Create the same sorted horizontal bar plot, but with colours\n",
    "\n",
    "# Show the plot\n",
    "plt.show()"
   ]
  },
  {
   "cell_type": "markdown",
   "id": "f95b90f3",
   "metadata": {},
   "source": [
    "# Apply to the plots in a context manager"
   ]
  },
  {
   "cell_type": "code",
   "execution_count": null,
   "id": "31f6e1b3",
   "metadata": {},
   "outputs": [],
   "source": [
    "with plt.style.context(('../mpl_styles/presentation.mplstyle')):\n",
    "    # Plot the data\n",
    "    plt.plot(np.sin(np.linspace(0, 2 * np.pi)), 'C1-o')"
   ]
  },
  {
   "cell_type": "code",
   "execution_count": null,
   "id": "d8235648",
   "metadata": {},
   "outputs": [],
   "source": [
    "with plt.style.context((\n",
    "    '../mpl_styles/publication.mplstyle',\n",
    "    '../mpl_styles/publication_onecolumn.mplstyle')\n",
    "):\n",
    "    # Plot the data\n",
    "    plt.plot(np.sin(np.linspace(0, 2 * np.pi)), 'C2-o')"
   ]
  },
  {
   "cell_type": "code",
   "execution_count": null,
   "id": "795750e0",
   "metadata": {},
   "outputs": [],
   "source": [
    "with plt.style.context((\n",
    "    '../mpl_styles/publication.mplstyle',\n",
    "    '../mpl_styles/publication_twocolumn.mplstyle'\n",
    ")):\n",
    "    # Plot the data\n",
    "    plt.plot(np.sin(np.linspace(0, 2 * np.pi)), 'C2-o')"
   ]
  },
  {
   "cell_type": "markdown",
   "id": "53db5a0f-177a-4191-a56c-0b722a8c7f96",
   "metadata": {
    "jp-MarkdownHeadingCollapsed": true
   },
   "source": [
    "# _Exercise 2 (see the exercises notebook)_"
   ]
  },
  {
   "cell_type": "markdown",
   "id": "04a5c5cf",
   "metadata": {},
   "source": [
    "# Exporting figures\n",
    "Matplotlib figures can be exported using the savefig command. Ususaly available formats are: png, pdf, ps, eps and svg."
   ]
  },
  {
   "cell_type": "code",
   "execution_count": null,
   "id": "9e333843",
   "metadata": {},
   "outputs": [],
   "source": [
    "with plt.style.context((\n",
    "    '../mpl_styles/publication.mplstyle',\n",
    "    '../mpl_styles/publication_twocolumn.mplstyle'\n",
    ")):\n",
    "    # Create data\n",
    "    x = np.linspace(0, 2 * np.pi)\n",
    "\n",
    "    # Create figure and axes\n",
    "    fig, ax = plt.subplots()\n",
    "\n",
    "    # Plot the data\n",
    "    ax.plot(x, np.sin(x), 'C2')\n",
    "    ax.set_xlabel('$x$')\n",
    "    ax.set_ylabel(r'$\\sin(x)$ / a. u.')\n",
    "\n",
    "    # Save the plot in a file\n",
    "    fig.savefig('matplotlib_output.svg')"
   ]
  },
  {
   "cell_type": "markdown",
   "id": "eb3e8df8",
   "metadata": {
    "slideshow": {
     "slide_type": "notes"
    }
   },
   "source": [
    "Speaker notes\n",
    " - If not set by a style or in the figure creation you should set the dpi value here\n",
    " - If some of your output is cropped, try `bbox_inches='tight'`"
   ]
  },
  {
   "cell_type": "markdown",
   "id": "7255d11e",
   "metadata": {},
   "source": [
    "# Summary:\n",
    " - Matplotlib can be used to generate plots\n",
    " - We can style these plots using mplstyle files\n",
    " - Adapt your figures to your use case."
   ]
  },
  {
   "cell_type": "markdown",
   "id": "b1497053",
   "metadata": {},
   "source": []
  }
 ],
 "metadata": {
  "kernelspec": {
   "display_name": "Python 3 (ipykernel)",
   "language": "python",
   "name": "python3"
  },
  "language_info": {
   "codemirror_mode": {
    "name": "ipython",
    "version": 3
   },
   "file_extension": ".py",
   "mimetype": "text/x-python",
   "name": "python",
   "nbconvert_exporter": "python",
   "pygments_lexer": "ipython3",
   "version": "3.13.0"
  }
 },
 "nbformat": 4,
 "nbformat_minor": 5
}
